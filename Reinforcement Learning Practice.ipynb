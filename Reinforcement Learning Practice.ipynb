{
 "cells": [
  {
   "cell_type": "code",
   "execution_count": 1,
   "id": "e145c56f",
   "metadata": {},
   "outputs": [],
   "source": [
    "import numpy as np\n",
    "\n",
    "R = np.matrix([ [-1,-1,-1,-1,0,-1],\n",
    "                [-1,-1,-1,0,-1,1],\n",
    "                [-1,-1,-1,0,-1,-1],\n",
    "                [-1,0,0,-1,0,-1],\n",
    "                [0,-1,-1,0,-1,1],\n",
    "                [-1,0,-1,-1,0,1] ])\n",
    "\n",
    "Q = np.matrix(np.zeros([6,6]))"
   ]
  },
  {
   "cell_type": "code",
   "execution_count": 2,
   "id": "f46fb6be",
   "metadata": {},
   "outputs": [],
   "source": [
    "gamma = 0.8\n",
    "initial_state =1\n",
    "\n",
    "def avilable_actions(state):\n",
    "    \n",
    "    current_state_row = R[state,]\n",
    "    av_act=np.where(current_state_row >= 0)[1]\n",
    "    return av_act\n"
   ]
  },
  {
   "cell_type": "code",
   "execution_count": 3,
   "id": "5d60cfb2",
   "metadata": {},
   "outputs": [
    {
     "name": "stdout",
     "output_type": "stream",
     "text": [
      "[3 5]\n"
     ]
    }
   ],
   "source": [
    "avilable_act = avilable_actions(initial_state)\n",
    "print(avilable_act)"
   ]
  },
  {
   "cell_type": "code",
   "execution_count": 4,
   "id": "bd2a65c5",
   "metadata": {},
   "outputs": [],
   "source": [
    "def sample_next_action(avilable_action_range):\n",
    "    next_action = int(np.random.choice(avilable_action_range,1))\n",
    "    return next_action"
   ]
  },
  {
   "cell_type": "code",
   "execution_count": 5,
   "id": "5615a690",
   "metadata": {},
   "outputs": [
    {
     "name": "stdout",
     "output_type": "stream",
     "text": [
      "3\n"
     ]
    }
   ],
   "source": [
    "action = sample_next_action(avilable_act)\n",
    "print(action)"
   ]
  },
  {
   "cell_type": "code",
   "execution_count": 6,
   "id": "56d79627",
   "metadata": {},
   "outputs": [],
   "source": [
    "def update(current_state,action,gamma):\n",
    "    \n",
    "    max_index = np.where(Q[action,]==np.max(Q[action,]))[1]\n",
    "    \n",
    "    if max_index.shape[0] > 1:\n",
    "        max_index = int(np.random.choice(max_index, size = 1))\n",
    "    else:\n",
    "        max_index = int(max_index)\n",
    "        \n",
    "    max_value = Q[action,max_index]\n",
    "    \n",
    "    Q[current_state,action]= R[current_state,action]+gamma*max_value\n",
    "    \n",
    "\n"
   ]
  },
  {
   "cell_type": "code",
   "execution_count": 7,
   "id": "a826b82a",
   "metadata": {},
   "outputs": [],
   "source": [
    "update(initial_state,action,gamma)"
   ]
  },
  {
   "cell_type": "code",
   "execution_count": 8,
   "id": "e8269fea",
   "metadata": {},
   "outputs": [],
   "source": [
    "for i in range(10000):\n",
    "    current_state = np.random.randint(0,int(Q.shape[0]))\n",
    "    avilable_act = avilable_actions(current_state)\n",
    "    action = sample_next_action(avilable_act)\n",
    "    update(current_state,action,gamma)\n",
    "    "
   ]
  },
  {
   "cell_type": "code",
   "execution_count": 9,
   "id": "bc7c0194",
   "metadata": {},
   "outputs": [
    {
     "name": "stdout",
     "output_type": "stream",
     "text": [
      "Trained Q Matrix\n",
      "[[0.    0.    0.    0.    0.8   0.   ]\n",
      " [0.    0.    0.    0.64  0.    1.   ]\n",
      " [0.    0.    0.    0.64  0.    0.   ]\n",
      " [0.    0.8   0.512 0.    0.8   0.   ]\n",
      " [0.64  0.    0.    0.64  0.    1.   ]\n",
      " [0.    0.8   0.    0.    0.8   1.   ]]\n"
     ]
    }
   ],
   "source": [
    "print(\"Trained Q Matrix\")\n",
    "print(Q/np.max(Q))"
   ]
  },
  {
   "cell_type": "markdown",
   "id": "15c9f716",
   "metadata": {},
   "source": [
    "# Testing\n",
    "\n",
    "# Goal state = 5\n",
    "# Best sequence path starting from 2 -> 2, 3, 1, 5"
   ]
  },
  {
   "cell_type": "code",
   "execution_count": 11,
   "id": "c65fce58",
   "metadata": {},
   "outputs": [
    {
     "name": "stdout",
     "output_type": "stream",
     "text": [
      "Testing\n",
      "Selected Path \n",
      "[2, 3, 1, 5]\n"
     ]
    }
   ],
   "source": [
    "print(\"Testing\")\n",
    "current_state = 2\n",
    "steps = [current_state]\n",
    "\n",
    "while current_state!=5:\n",
    "    \n",
    "    next_step_index = np.where(Q[current_state,] == np.max(Q[current_state,]))[1]\n",
    "    \n",
    "    if next_step_index.shape[0] > 1:\n",
    "        \n",
    "        next_step_index = int(np.random.choice(next_step_index,size=1))\n",
    "    else:\n",
    "        next_step_index = int(next_step_index)\n",
    "    \n",
    "    steps.append(next_step_index)\n",
    "    current_state=next_step_index\n",
    "    \n",
    "print(\"Selected Path \")\n",
    "print(steps)"
   ]
  },
  {
   "cell_type": "code",
   "execution_count": null,
   "id": "a167f8a5",
   "metadata": {},
   "outputs": [],
   "source": []
  },
  {
   "cell_type": "code",
   "execution_count": null,
   "id": "baa59ee9",
   "metadata": {},
   "outputs": [],
   "source": []
  },
  {
   "cell_type": "code",
   "execution_count": null,
   "id": "13bfaa65",
   "metadata": {},
   "outputs": [],
   "source": []
  }
 ],
 "metadata": {
  "kernelspec": {
   "display_name": "mlenv",
   "language": "python",
   "name": "mlenv"
  },
  "language_info": {
   "codemirror_mode": {
    "name": "ipython",
    "version": 3
   },
   "file_extension": ".py",
   "mimetype": "text/x-python",
   "name": "python",
   "nbconvert_exporter": "python",
   "pygments_lexer": "ipython3",
   "version": "3.9.15"
  }
 },
 "nbformat": 4,
 "nbformat_minor": 5
}
