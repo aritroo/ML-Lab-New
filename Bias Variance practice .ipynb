{
 "cells": [
  {
   "cell_type": "code",
   "execution_count": 1,
   "id": "d27b8ca7",
   "metadata": {},
   "outputs": [],
   "source": [
    "from pandas import read_csv"
   ]
  },
  {
   "cell_type": "code",
   "execution_count": 2,
   "id": "82829ff9",
   "metadata": {},
   "outputs": [],
   "source": [
    "dataframe = read_csv('housing.csv')"
   ]
  },
  {
   "cell_type": "code",
   "execution_count": 3,
   "id": "b4913c81",
   "metadata": {},
   "outputs": [],
   "source": [
    "df = dataframe.values"
   ]
  },
  {
   "cell_type": "code",
   "execution_count": 4,
   "id": "486f91e9",
   "metadata": {},
   "outputs": [],
   "source": [
    "x,y = df[:,:-1],df[:,-1]\n",
    "\n",
    "from sklearn.model_selection import train_test_split\n",
    "\n",
    "x_train,x_test,y_train,y_test = train_test_split(x,y,test_size=0.33,random_state=1)\n"
   ]
  },
  {
   "cell_type": "code",
   "execution_count": 5,
   "id": "70dda6d4",
   "metadata": {},
   "outputs": [],
   "source": [
    "from sklearn.linear_model import LinearRegression\n",
    "from mlxtend.evaluate import bias_variance_decomp"
   ]
  },
  {
   "cell_type": "code",
   "execution_count": 7,
   "id": "ca0692ea",
   "metadata": {},
   "outputs": [
    {
     "name": "stdout",
     "output_type": "stream",
     "text": [
      "MSE : 25.400 \n",
      "Bias : 23.879 \n",
      "Variance : 1.521 \n"
     ]
    }
   ],
   "source": [
    "model = LinearRegression()\n",
    "\n",
    "mse,bias,var = bias_variance_decomp(model,x_train,y_train,x_test,y_test,loss='mse',num_rounds=100)\n",
    "\n",
    "print('MSE : %.3f ' %mse)\n",
    "print('Bias : %.3f ' %bias)\n",
    "print('Variance : %.3f ' %var)\n"
   ]
  },
  {
   "cell_type": "code",
   "execution_count": null,
   "id": "a91df027",
   "metadata": {},
   "outputs": [],
   "source": []
  },
  {
   "cell_type": "code",
   "execution_count": null,
   "id": "b2a96ae8",
   "metadata": {},
   "outputs": [],
   "source": []
  }
 ],
 "metadata": {
  "kernelspec": {
   "display_name": "mlenv",
   "language": "python",
   "name": "mlenv"
  },
  "language_info": {
   "codemirror_mode": {
    "name": "ipython",
    "version": 3
   },
   "file_extension": ".py",
   "mimetype": "text/x-python",
   "name": "python",
   "nbconvert_exporter": "python",
   "pygments_lexer": "ipython3",
   "version": "3.9.15"
  }
 },
 "nbformat": 4,
 "nbformat_minor": 5
}
