{
 "cells": [
  {
   "cell_type": "code",
   "execution_count": 1,
   "id": "19ea3bf7",
   "metadata": {},
   "outputs": [],
   "source": [
    "import numpy as np\n",
    "\n",
    "R = np.matrix([ [-1,-1,-1,-1,0,-1],\n",
    "                [-1,-1,-1,0,-1,1],\n",
    "                [-1,-1,-1,0,-1,-1],\n",
    "                [-1,0,0,-1,0,-1],\n",
    "                [0,-1,-1,0,-1,1],\n",
    "                [-1,0,-1,-1,0,1] ])\n",
    "\n",
    "Q = np.matrix(np.zeros([6,6]))\n",
    "\n",
    "gamma = 0.8 \n",
    "initial_state = 1"
   ]
  },
  {
   "cell_type": "code",
   "execution_count": 2,
   "id": "65234dad",
   "metadata": {},
   "outputs": [],
   "source": [
    "def available_action(state):\n",
    "    current_state_row = R[state,]\n",
    "    av_act = np.where(current_state_row >=0)[1]\n",
    "    return av_act\n"
   ]
  },
  {
   "cell_type": "code",
   "execution_count": 3,
   "id": "320c3f52",
   "metadata": {},
   "outputs": [
    {
     "name": "stdout",
     "output_type": "stream",
     "text": [
      "[3 5]\n"
     ]
    }
   ],
   "source": [
    "available_act = available_action(initial_state)\n",
    "print(available_act)"
   ]
  },
  {
   "cell_type": "code",
   "execution_count": 5,
   "id": "f2fb35b0",
   "metadata": {},
   "outputs": [
    {
     "name": "stdout",
     "output_type": "stream",
     "text": [
      "3\n"
     ]
    }
   ],
   "source": [
    "# def sample_next_action(available_action_range):\n",
    "#     next_action = int(np.random.choice(available_action_range,1))\n",
    "#     return next_action\n",
    "\n",
    "def sample_next_action(avilable_action_range):\n",
    "    next_action = int(np.random.choice(avilable_action_range,1))\n",
    "    return next_action\n",
    "\n",
    "action = sample_next_action(available_act)\n",
    "print(action)"
   ]
  },
  {
   "cell_type": "code",
   "execution_count": null,
   "id": "999cc899",
   "metadata": {},
   "outputs": [],
   "source": []
  },
  {
   "cell_type": "code",
   "execution_count": null,
   "id": "a0f9af4a",
   "metadata": {},
   "outputs": [],
   "source": []
  },
  {
   "cell_type": "code",
   "execution_count": null,
   "id": "d9f7efa8",
   "metadata": {},
   "outputs": [],
   "source": []
  },
  {
   "cell_type": "code",
   "execution_count": null,
   "id": "70d351af",
   "metadata": {},
   "outputs": [],
   "source": []
  },
  {
   "cell_type": "code",
   "execution_count": null,
   "id": "a1478067",
   "metadata": {},
   "outputs": [],
   "source": []
  },
  {
   "cell_type": "code",
   "execution_count": null,
   "id": "54e5ab81",
   "metadata": {},
   "outputs": [],
   "source": []
  }
 ],
 "metadata": {
  "kernelspec": {
   "display_name": "mlenv",
   "language": "python",
   "name": "mlenv"
  },
  "language_info": {
   "codemirror_mode": {
    "name": "ipython",
    "version": 3
   },
   "file_extension": ".py",
   "mimetype": "text/x-python",
   "name": "python",
   "nbconvert_exporter": "python",
   "pygments_lexer": "ipython3",
   "version": "3.9.15"
  }
 },
 "nbformat": 4,
 "nbformat_minor": 5
}
