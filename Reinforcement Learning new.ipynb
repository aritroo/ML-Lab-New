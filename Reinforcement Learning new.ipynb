{
 "cells": [
  {
   "cell_type": "code",
   "execution_count": 1,
   "id": "f5cca3eb",
   "metadata": {},
   "outputs": [],
   "source": [
    "import numpy as np\n",
    "\n",
    "R = np.matrix([ [-1,-1,-1,-1,0,-1],\n",
    "                [-1,-1,-1,0,-1,1],\n",
    "                [-1,-1,-1,0,-1,-1],\n",
    "                [-1,0,0,-1,0,-1],\n",
    "                [0,-1,-1,0,-1,1],\n",
    "                [-1,0,-1,-1,0,1] ])\n",
    "\n",
    "Q = np.matrix(np.zeros([6,6]))"
   ]
  },
  {
   "cell_type": "code",
   "execution_count": 2,
   "id": "b5788dea",
   "metadata": {},
   "outputs": [],
   "source": [
    "gamma=0.8\n",
    "initial_state=1"
   ]
  },
  {
   "cell_type": "code",
   "execution_count": 3,
   "id": "7576aa23",
   "metadata": {},
   "outputs": [
    {
     "name": "stdout",
     "output_type": "stream",
     "text": [
      "[3 5]\n"
     ]
    }
   ],
   "source": [
    "def available_actions(state):\n",
    "    current_state_row=R[state,]\n",
    "    av_act=np.where(current_state_row>=0)[1]\n",
    "    return av_act\n",
    "\n",
    "available_act = available_actions(initial_state)\n",
    "print(available_act)"
   ]
  },
  {
   "cell_type": "code",
   "execution_count": 4,
   "id": "d8c8a1ad",
   "metadata": {},
   "outputs": [
    {
     "name": "stdout",
     "output_type": "stream",
     "text": [
      "5\n"
     ]
    }
   ],
   "source": [
    "def sample_next_action(available_action_range):\n",
    "    next_action = int(np.random.choice(available_action_range,1))\n",
    "    return next_action\n",
    "\n",
    "action = sample_next_action(available_act)\n",
    "print(action)"
   ]
  },
  {
   "cell_type": "code",
   "execution_count": 5,
   "id": "c4898e6f",
   "metadata": {},
   "outputs": [],
   "source": [
    "def update(current_state,action,gamma):\n",
    "    \n",
    "    max_index = np.where(Q[action,]==np.max(Q[action,]))[1]\n",
    "    \n",
    "    if max_index.shape[0]>1:\n",
    "        max_index = int(np.random.choice(max_index,size=1))\n",
    "    else:\n",
    "        max_index=int(max_index)\n",
    "        \n",
    "    max_value=Q[action,max_index]\n",
    "    Q[current_state,action]=R[current_state,action]+gamma*max_value\n",
    "    \n",
    "update(initial_state,action,gamma)"
   ]
  },
  {
   "cell_type": "code",
   "execution_count": 6,
   "id": "63b329ba",
   "metadata": {},
   "outputs": [],
   "source": [
    "for i in range(10000):\n",
    "    current_state=np.random.randint(0,Q.shape[0])\n",
    "    available_act=available_actions(current_state)\n",
    "    action=sample_next_action(available_act)\n",
    "    update(current_state,action,gamma)"
   ]
  },
  {
   "cell_type": "code",
   "execution_count": 7,
   "id": "6c085208",
   "metadata": {},
   "outputs": [
    {
     "name": "stdout",
     "output_type": "stream",
     "text": [
      "Trained Martrix\n",
      "[[0.    0.    0.    0.    0.8   0.   ]\n",
      " [0.    0.    0.    0.64  0.    1.   ]\n",
      " [0.    0.    0.    0.64  0.    0.   ]\n",
      " [0.    0.8   0.512 0.    0.8   0.   ]\n",
      " [0.64  0.    0.    0.64  0.    1.   ]\n",
      " [0.    0.8   0.    0.    0.8   1.   ]]\n"
     ]
    }
   ],
   "source": [
    "print(\"Trained Martrix\")\n",
    "print(Q/np.max(Q))"
   ]
  },
  {
   "cell_type": "code",
   "execution_count": 24,
   "id": "c2514b62",
   "metadata": {},
   "outputs": [
    {
     "name": "stdout",
     "output_type": "stream",
     "text": [
      "Testing\n",
      "Selected path :\n",
      "[2, 3, 1, 5]\n"
     ]
    }
   ],
   "source": [
    "print(\"Testing\")\n",
    "\n",
    "current_state=2\n",
    "steps=[current_state]\n",
    "\n",
    "while current_state!=5:\n",
    "    next_step_index = np.where(Q[current_state]==np.max(Q[current_state]))[1]\n",
    "\n",
    "    if next_step_index.shape[0]>1:\n",
    "        next_step_index=int(np.random.choice(next_step_index,size=1))\n",
    "    else:\n",
    "        next_step_index = int(next_step_index)\n",
    "    steps.append(next_step_index)\n",
    "    current_state=next_step_index\n",
    "    \n",
    "print(\"Selected path :\")\n",
    "print(steps)\n"
   ]
  },
  {
   "cell_type": "code",
   "execution_count": null,
   "id": "43ca84c0",
   "metadata": {},
   "outputs": [],
   "source": []
  },
  {
   "cell_type": "code",
   "execution_count": null,
   "id": "1797f902",
   "metadata": {},
   "outputs": [],
   "source": []
  },
  {
   "cell_type": "code",
   "execution_count": null,
   "id": "a08918a3",
   "metadata": {},
   "outputs": [],
   "source": []
  }
 ],
 "metadata": {
  "kernelspec": {
   "display_name": "mlenv",
   "language": "python",
   "name": "mlenv"
  },
  "language_info": {
   "codemirror_mode": {
    "name": "ipython",
    "version": 3
   },
   "file_extension": ".py",
   "mimetype": "text/x-python",
   "name": "python",
   "nbconvert_exporter": "python",
   "pygments_lexer": "ipython3",
   "version": "3.9.15"
  }
 },
 "nbformat": 4,
 "nbformat_minor": 5
}
