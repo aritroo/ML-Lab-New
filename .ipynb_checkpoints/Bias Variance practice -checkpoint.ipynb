{
 "cells": [
  {
   "cell_type": "code",
   "execution_count": 1,
   "id": "389684ef",
   "metadata": {},
   "outputs": [],
   "source": [
    "from pandas import read_csv"
   ]
  },
  {
   "cell_type": "code",
   "execution_count": 2,
   "id": "d5688261",
   "metadata": {},
   "outputs": [],
   "source": [
    "df = read_csv('housing.csv',header=None)"
   ]
  },
  {
   "cell_type": "code",
   "execution_count": 3,
   "id": "9a6d9cab",
   "metadata": {},
   "outputs": [],
   "source": [
    "data = df.values\n",
    "x,y=data[:,:-1],data[:,-1]"
   ]
  },
  {
   "cell_type": "code",
   "execution_count": 6,
   "id": "28a4e794",
   "metadata": {},
   "outputs": [],
   "source": [
    "from sklearn.model_selection import train_test_split\n",
    "from sklearn.linear_model import LinearRegression\n",
    "from mlxtend.evaluate import bias_variance_decomp\n",
    "\n",
    "x_train,x_test,y_train,y_test = train_test_split(x,y,test_size=0.33,random_state=1)\n",
    "\n",
    "model = LinearRegression()"
   ]
  },
  {
   "cell_type": "code",
   "execution_count": 7,
   "id": "0cd62c1c",
   "metadata": {},
   "outputs": [],
   "source": [
    "mse,bias,var = bias_variance_decomp(model,x_train,y_train,x_test,y_test,loss='mse',num_rounds=100)"
   ]
  },
  {
   "cell_type": "code",
   "execution_count": 8,
   "id": "e9ebbed5",
   "metadata": {},
   "outputs": [
    {
     "name": "stdout",
     "output_type": "stream",
     "text": [
      "mse : 22.141\n",
      "bias : 20.598\n",
      "variance : 1.543\n"
     ]
    }
   ],
   "source": [
    "print('mse : %.3f' % mse)\n",
    "print('bias : %.3f' % bias)\n",
    "print('variance : %.3f' % var)"
   ]
  }
 ],
 "metadata": {
  "kernelspec": {
   "display_name": "mlenv",
   "language": "python",
   "name": "mlenv"
  },
  "language_info": {
   "codemirror_mode": {
    "name": "ipython",
    "version": 3
   },
   "file_extension": ".py",
   "mimetype": "text/x-python",
   "name": "python",
   "nbconvert_exporter": "python",
   "pygments_lexer": "ipython3",
   "version": "3.9.15"
  }
 },
 "nbformat": 4,
 "nbformat_minor": 5
}
