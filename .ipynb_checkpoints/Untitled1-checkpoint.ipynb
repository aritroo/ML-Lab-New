{
 "cells": [
  {
   "cell_type": "code",
   "execution_count": 1,
   "id": "613e58e9",
   "metadata": {},
   "outputs": [],
   "source": [
    "import numpy as np\n",
    "\n",
    "R = np.matrix([ [-1,-1,-1,-1,0,-1],\n",
    "                [-1,-1,-1,0,-1,1],\n",
    "                [-1,-1,-1,0,-1,-1],\n",
    "                [-1,0,0,-1,0,-1],\n",
    "                [0,-1,-1,0,-1,1],\n",
    "                [-1,0,-1,-1,0,1] ])\n",
    "\n",
    "Q = np.matrix(np.zeros([6,6]))\n"
   ]
  },
  {
   "cell_type": "code",
   "execution_count": 2,
   "id": "b0212195",
   "metadata": {},
   "outputs": [],
   "source": [
    "gamma = 0.8\n",
    "initial_state = 1"
   ]
  },
  {
   "cell_type": "code",
   "execution_count": 3,
   "id": "0008d76f",
   "metadata": {},
   "outputs": [
    {
     "name": "stdout",
     "output_type": "stream",
     "text": [
      "[3 5]\n"
     ]
    }
   ],
   "source": [
    "def available_action(state):\n",
    "    current_state_row=R[state,]\n",
    "    av_act = np.where(current_state_row >= 0 )[1]\n",
    "    return av_act\n",
    "\n",
    "available_act = available_action(initial_state)\n",
    "print(available_act)"
   ]
  },
  {
   "cell_type": "code",
   "execution_count": 4,
   "id": "a266c152",
   "metadata": {},
   "outputs": [],
   "source": [
    "def sample_next_action(available_action_range):\n",
    "    next_action = int(np.random.choice(available_action_range,1))\n",
    "    return next_action\n",
    "\n",
    "action = sample_next_action(available_act)"
   ]
  },
  {
   "cell_type": "code",
   "execution_count": 5,
   "id": "ce672677",
   "metadata": {},
   "outputs": [
    {
     "name": "stdout",
     "output_type": "stream",
     "text": [
      "5\n"
     ]
    }
   ],
   "source": [
    "print(action)"
   ]
  },
  {
   "cell_type": "code",
   "execution_count": 6,
   "id": "323df09c",
   "metadata": {},
   "outputs": [],
   "source": [
    "def update(current_state,action,gamma):\n",
    "    \n",
    "    max_index = np.where(Q[action,]==np.max(Q[action,]))[1]\n",
    "    \n",
    "    if max_index.shape[0] > 1:\n",
    "        max_index = int(np.random.choice(max_index,size=1))\n",
    "    else:\n",
    "        max_index=int(max_index)\n",
    "    \n",
    "    max_value=Q[action,max_index]\n",
    "    Q[current_state,action]=R[current_state,action]+gamma*max_value\n",
    "\n",
    "update(initial_state,action,gamma)"
   ]
  },
  {
   "cell_type": "code",
   "execution_count": 7,
   "id": "34e4a4a3",
   "metadata": {},
   "outputs": [],
   "source": [
    "for i in range(10000):\n",
    "    current_state = np.random.randint(0,Q.shape[0])\n",
    "    available_act = available_action(current_state)\n",
    "    action = sample_next_action(available_act)\n",
    "    update(current_state,action,gamma)"
   ]
  },
  {
   "cell_type": "code",
   "execution_count": 8,
   "id": "b7aa670d",
   "metadata": {},
   "outputs": [
    {
     "name": "stdout",
     "output_type": "stream",
     "text": [
      "Trained Q Matrix\n",
      "[[0.    0.    0.    0.    0.8   0.   ]\n",
      " [0.    0.    0.    0.64  0.    1.   ]\n",
      " [0.    0.    0.    0.64  0.    0.   ]\n",
      " [0.    0.8   0.512 0.    0.8   0.   ]\n",
      " [0.64  0.    0.    0.64  0.    1.   ]\n",
      " [0.    0.8   0.    0.    0.8   1.   ]]\n"
     ]
    }
   ],
   "source": [
    "print(\"Trained Q Matrix\")\n",
    "print(Q/np.max(Q))"
   ]
  },
  {
   "cell_type": "code",
   "execution_count": 9,
   "id": "4893853a",
   "metadata": {},
   "outputs": [
    {
     "name": "stdout",
     "output_type": "stream",
     "text": [
      "Testing\n",
      "Path : \n",
      "[2, 3, 1, 5]\n"
     ]
    }
   ],
   "source": [
    "print(\"Testing\")\n",
    "\n",
    "current_state = 2\n",
    "\n",
    "steps = [current_state]\n",
    "\n",
    "while current_state!=5:\n",
    "    \n",
    "    next_step_index = np.where(Q[current_state,]==np.max(Q[current_state,]))[1]\n",
    "    \n",
    "    if next_step_index.shape[0] > 1:\n",
    "        next_step_index = int(np.random.choice(next_step_index,size=1))\n",
    "    else:\n",
    "        next_step_index=int(next_step_index)\n",
    "    \n",
    "    steps.append(next_step_index)\n",
    "    current_state = next_step_index\n",
    "    \n",
    "\n",
    "print(\"Path : \")\n",
    "print(steps)\n",
    "    "
   ]
  },
  {
   "cell_type": "code",
   "execution_count": null,
   "id": "715fc89f",
   "metadata": {},
   "outputs": [],
   "source": []
  },
  {
   "cell_type": "code",
   "execution_count": null,
   "id": "a149ba1d",
   "metadata": {},
   "outputs": [],
   "source": []
  },
  {
   "cell_type": "code",
   "execution_count": null,
   "id": "6b751a0c",
   "metadata": {},
   "outputs": [],
   "source": []
  },
  {
   "cell_type": "code",
   "execution_count": null,
   "id": "67b3b311",
   "metadata": {},
   "outputs": [],
   "source": []
  },
  {
   "cell_type": "code",
   "execution_count": null,
   "id": "d51fa748",
   "metadata": {},
   "outputs": [],
   "source": []
  }
 ],
 "metadata": {
  "kernelspec": {
   "display_name": "mlenv",
   "language": "python",
   "name": "mlenv"
  },
  "language_info": {
   "codemirror_mode": {
    "name": "ipython",
    "version": 3
   },
   "file_extension": ".py",
   "mimetype": "text/x-python",
   "name": "python",
   "nbconvert_exporter": "python",
   "pygments_lexer": "ipython3",
   "version": "3.9.15"
  }
 },
 "nbformat": 4,
 "nbformat_minor": 5
}
