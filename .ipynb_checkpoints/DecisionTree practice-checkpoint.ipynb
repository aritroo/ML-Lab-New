{
 "cells": [
  {
   "cell_type": "code",
   "execution_count": 1,
   "id": "b4ac150c",
   "metadata": {},
   "outputs": [],
   "source": [
    "import pandas as pd\n",
    "import matplotlib.pyplot as plt"
   ]
  },
  {
   "cell_type": "code",
   "execution_count": 2,
   "id": "3c631e10",
   "metadata": {},
   "outputs": [],
   "source": [
    "df = pd.read_csv('loan.csv')"
   ]
  },
  {
   "cell_type": "code",
   "execution_count": 3,
   "id": "733f5dc4",
   "metadata": {},
   "outputs": [
    {
     "data": {
      "text/html": [
       "<div>\n",
       "<style scoped>\n",
       "    .dataframe tbody tr th:only-of-type {\n",
       "        vertical-align: middle;\n",
       "    }\n",
       "\n",
       "    .dataframe tbody tr th {\n",
       "        vertical-align: top;\n",
       "    }\n",
       "\n",
       "    .dataframe thead th {\n",
       "        text-align: right;\n",
       "    }\n",
       "</style>\n",
       "<table border=\"1\" class=\"dataframe\">\n",
       "  <thead>\n",
       "    <tr style=\"text-align: right;\">\n",
       "      <th></th>\n",
       "      <th>Loan_ID</th>\n",
       "      <th>Gender</th>\n",
       "      <th>Married</th>\n",
       "      <th>Dependents</th>\n",
       "      <th>Education</th>\n",
       "      <th>Self_Employed</th>\n",
       "      <th>ApplicantIncome</th>\n",
       "      <th>CoapplicantIncome</th>\n",
       "      <th>LoanAmount</th>\n",
       "      <th>Loan_Amount_Term</th>\n",
       "      <th>Credit_History</th>\n",
       "      <th>Property_Area</th>\n",
       "      <th>Loan_Status</th>\n",
       "    </tr>\n",
       "  </thead>\n",
       "  <tbody>\n",
       "    <tr>\n",
       "      <th>0</th>\n",
       "      <td>LP001002</td>\n",
       "      <td>Male</td>\n",
       "      <td>No</td>\n",
       "      <td>0.0</td>\n",
       "      <td>Graduate</td>\n",
       "      <td>No</td>\n",
       "      <td>5849</td>\n",
       "      <td>0.0</td>\n",
       "      <td>NaN</td>\n",
       "      <td>360.0</td>\n",
       "      <td>1.0</td>\n",
       "      <td>Urban</td>\n",
       "      <td>Y</td>\n",
       "    </tr>\n",
       "    <tr>\n",
       "      <th>1</th>\n",
       "      <td>LP001003</td>\n",
       "      <td>Male</td>\n",
       "      <td>Yes</td>\n",
       "      <td>1.0</td>\n",
       "      <td>Graduate</td>\n",
       "      <td>No</td>\n",
       "      <td>4583</td>\n",
       "      <td>1508.0</td>\n",
       "      <td>128.0</td>\n",
       "      <td>360.0</td>\n",
       "      <td>1.0</td>\n",
       "      <td>Rural</td>\n",
       "      <td>N</td>\n",
       "    </tr>\n",
       "    <tr>\n",
       "      <th>2</th>\n",
       "      <td>LP001005</td>\n",
       "      <td>Male</td>\n",
       "      <td>Yes</td>\n",
       "      <td>0.0</td>\n",
       "      <td>Graduate</td>\n",
       "      <td>Yes</td>\n",
       "      <td>3000</td>\n",
       "      <td>0.0</td>\n",
       "      <td>66.0</td>\n",
       "      <td>360.0</td>\n",
       "      <td>1.0</td>\n",
       "      <td>Urban</td>\n",
       "      <td>Y</td>\n",
       "    </tr>\n",
       "    <tr>\n",
       "      <th>3</th>\n",
       "      <td>LP001006</td>\n",
       "      <td>Male</td>\n",
       "      <td>Yes</td>\n",
       "      <td>0.0</td>\n",
       "      <td>Not Graduate</td>\n",
       "      <td>No</td>\n",
       "      <td>2583</td>\n",
       "      <td>2358.0</td>\n",
       "      <td>120.0</td>\n",
       "      <td>360.0</td>\n",
       "      <td>1.0</td>\n",
       "      <td>Urban</td>\n",
       "      <td>Y</td>\n",
       "    </tr>\n",
       "    <tr>\n",
       "      <th>4</th>\n",
       "      <td>LP001008</td>\n",
       "      <td>Male</td>\n",
       "      <td>No</td>\n",
       "      <td>0.0</td>\n",
       "      <td>Graduate</td>\n",
       "      <td>No</td>\n",
       "      <td>6000</td>\n",
       "      <td>0.0</td>\n",
       "      <td>141.0</td>\n",
       "      <td>360.0</td>\n",
       "      <td>1.0</td>\n",
       "      <td>Urban</td>\n",
       "      <td>Y</td>\n",
       "    </tr>\n",
       "  </tbody>\n",
       "</table>\n",
       "</div>"
      ],
      "text/plain": [
       "    Loan_ID Gender Married  Dependents     Education Self_Employed  \\\n",
       "0  LP001002   Male      No         0.0      Graduate            No   \n",
       "1  LP001003   Male     Yes         1.0      Graduate            No   \n",
       "2  LP001005   Male     Yes         0.0      Graduate           Yes   \n",
       "3  LP001006   Male     Yes         0.0  Not Graduate            No   \n",
       "4  LP001008   Male      No         0.0      Graduate            No   \n",
       "\n",
       "   ApplicantIncome  CoapplicantIncome  LoanAmount  Loan_Amount_Term  \\\n",
       "0             5849                0.0         NaN             360.0   \n",
       "1             4583             1508.0       128.0             360.0   \n",
       "2             3000                0.0        66.0             360.0   \n",
       "3             2583             2358.0       120.0             360.0   \n",
       "4             6000                0.0       141.0             360.0   \n",
       "\n",
       "   Credit_History Property_Area Loan_Status  \n",
       "0             1.0         Urban           Y  \n",
       "1             1.0         Rural           N  \n",
       "2             1.0         Urban           Y  \n",
       "3             1.0         Urban           Y  \n",
       "4             1.0         Urban           Y  "
      ]
     },
     "execution_count": 3,
     "metadata": {},
     "output_type": "execute_result"
    }
   ],
   "source": [
    "df.head()"
   ]
  },
  {
   "cell_type": "code",
   "execution_count": 4,
   "id": "fd168bed",
   "metadata": {},
   "outputs": [
    {
     "name": "stdout",
     "output_type": "stream",
     "text": [
      "Loan_ID               0\n",
      "Gender               13\n",
      "Married               3\n",
      "Dependents           15\n",
      "Education             0\n",
      "Self_Employed        32\n",
      "ApplicantIncome       0\n",
      "CoapplicantIncome     0\n",
      "LoanAmount           22\n",
      "Loan_Amount_Term     14\n",
      "Credit_History       50\n",
      "Property_Area         0\n",
      "Loan_Status           0\n",
      "dtype: int64\n"
     ]
    }
   ],
   "source": [
    "print(df.isnull().sum())"
   ]
  },
  {
   "cell_type": "code",
   "execution_count": 5,
   "id": "01325b56",
   "metadata": {},
   "outputs": [],
   "source": [
    "dfencoded = df.copy()"
   ]
  },
  {
   "cell_type": "code",
   "execution_count": 7,
   "id": "2af5759c",
   "metadata": {},
   "outputs": [],
   "source": [
    "#The fillna() method replaces the NULL values with a specified value. \n",
    "dfencoded['Gender'].fillna('Male',inplace=True)\n",
    "dfencoded['Married'].fillna('Yes',inplace=True)\n",
    "dfencoded['Dependents'].fillna(0,inplace=True)\n",
    "dfencoded['Self_Employed'].fillna('No',inplace=True)\n",
    "dfencoded['LoanAmount'].fillna(dfencoded['LoanAmount'].mean(),inplace=True)\n",
    "dfencoded['Loan_Amount_Term'].fillna(dfencoded['Loan_Amount_Term'].mean(),inplace=True)\n",
    "dfencoded['Credit_History'].fillna(1.0,inplace=True)"
   ]
  },
  {
   "cell_type": "code",
   "execution_count": 8,
   "id": "85fb9447",
   "metadata": {},
   "outputs": [],
   "source": [
    "from sklearn.preprocessing import LabelEncoder\n",
    "le = LabelEncoder()\n"
   ]
  },
  {
   "cell_type": "code",
   "execution_count": 9,
   "id": "e9e3de67",
   "metadata": {},
   "outputs": [],
   "source": [
    "dfencoded['Loan_ID']=le.fit_transform(dfencoded['Loan_ID'].values)\n",
    "dfencoded['Gender']=le.fit_transform(dfencoded['Gender'].values)\n",
    "dfencoded['Married']=le.fit_transform(dfencoded['Married'].values)\n",
    "dfencoded['Dependents']=le.fit_transform(dfencoded['Dependents'].values)\n",
    "\n",
    "dfencoded['Education']=le.fit_transform(dfencoded['Education'].values)\n",
    "dfencoded['Self_Employed']=le.fit_transform(dfencoded['Self_Employed'].values)\n",
    "dfencoded['Credit_History']=le.fit_transform(dfencoded['Credit_History'].values)\n",
    "dfencoded['Property_Area']=le.fit_transform(dfencoded['Property_Area'].values)\n",
    "dfencoded['Loan_Status']=le.fit_transform(dfencoded['Loan_Status'].values)\n",
    "dfencoded['ApplicantIncome']=le.fit_transform(dfencoded['ApplicantIncome'].values)\n",
    "dfencoded['CoapplicantIncome']=le.fit_transform(dfencoded['CoapplicantIncome'].values)\n",
    "dfencoded['LoanAmount']=le.fit_transform(dfencoded['LoanAmount'].values)\n",
    "dfencoded['Loan_Amount_Term']=le.fit_transform(dfencoded['Loan_Amount_Term'].values)"
   ]
  },
  {
   "cell_type": "code",
   "execution_count": 10,
   "id": "ec7b1c0b",
   "metadata": {},
   "outputs": [
    {
     "name": "stdout",
     "output_type": "stream",
     "text": [
      "   Loan_ID  Gender  Married  Dependents  Education  Self_Employed  \\\n",
      "0        0       1        0           0          0              0   \n",
      "1        1       1        1           1          0              0   \n",
      "2        2       1        1           0          0              1   \n",
      "3        3       1        1           0          1              0   \n",
      "4        4       1        0           0          0              0   \n",
      "\n",
      "   ApplicantIncome  CoapplicantIncome  LoanAmount  Loan_Amount_Term  \\\n",
      "0              376                  0         100                 9   \n",
      "1              306                 60          81                 9   \n",
      "2              139                  0          26                 9   \n",
      "3               90                160          73                 9   \n",
      "4              381                  0          94                 9   \n",
      "\n",
      "   Credit_History  Property_Area  Loan_Status  \n",
      "0               1              2            1  \n",
      "1               1              0            0  \n",
      "2               1              2            1  \n",
      "3               1              2            1  \n",
      "4               1              2            1  \n"
     ]
    }
   ],
   "source": [
    "print(dfencoded.head())"
   ]
  },
  {
   "cell_type": "code",
   "execution_count": 12,
   "id": "c20d6c2f",
   "metadata": {},
   "outputs": [
    {
     "name": "stdout",
     "output_type": "stream",
     "text": [
      "Index(['Loan_ID', 'Gender', 'Married', 'Dependents', 'Education',\n",
      "       'Self_Employed', 'ApplicantIncome', 'CoapplicantIncome', 'LoanAmount',\n",
      "       'Loan_Amount_Term', 'Credit_History', 'Property_Area', 'Loan_Status'],\n",
      "      dtype='object')\n"
     ]
    }
   ],
   "source": [
    "print(dfencoded.columns)"
   ]
  },
  {
   "cell_type": "code",
   "execution_count": 14,
   "id": "ae49fb1f",
   "metadata": {},
   "outputs": [],
   "source": [
    "features = ['Loan_ID', 'Gender', 'Married', 'Dependents', 'Education',\n",
    "       'Self_Employed', 'ApplicantIncome', 'CoapplicantIncome', 'LoanAmount',\n",
    "       'Loan_Amount_Term', 'Credit_History', 'Property_Area']\n",
    "\n",
    "x=dfencoded[features]\n",
    "y=dfencoded['Loan_Status']"
   ]
  },
  {
   "cell_type": "code",
   "execution_count": 15,
   "id": "ae0c9723",
   "metadata": {},
   "outputs": [],
   "source": [
    "from sklearn.model_selection import train_test_split\n",
    "x_train,x_test,y_train,y_test=train_test_split(x,y,test_size=0.3,random_state=1)"
   ]
  },
  {
   "cell_type": "code",
   "execution_count": 16,
   "id": "25aaebe3",
   "metadata": {},
   "outputs": [],
   "source": [
    "from sklearn.tree import DecisionTreeClassifier\n",
    "\n",
    "treeModel = DecisionTreeClassifier(random_state=0,max_depth=2,criterion='gini').fit(x_train,y_train)\n",
    "y_pred = treeModel.predict(x_test)"
   ]
  },
  {
   "cell_type": "code",
   "execution_count": 17,
   "id": "1984527b",
   "metadata": {},
   "outputs": [
    {
     "data": {
      "text/plain": [
       "[Text(0.5, 0.8333333333333334, 'x[10] <= 0.5\\ngini = 0.424\\nsamples = 429\\nvalue = [131, 298]'),\n",
       " Text(0.25, 0.5, 'x[8] <= 199.0\\ngini = 0.146\\nsamples = 63\\nvalue = [58, 5]'),\n",
       " Text(0.125, 0.16666666666666666, 'gini = 0.121\\nsamples = 62\\nvalue = [58, 4]'),\n",
       " Text(0.375, 0.16666666666666666, 'gini = 0.0\\nsamples = 1\\nvalue = [0, 1]'),\n",
       " Text(0.75, 0.5, 'x[7] <= 282.0\\ngini = 0.319\\nsamples = 366\\nvalue = [73, 293]'),\n",
       " Text(0.625, 0.16666666666666666, 'gini = 0.314\\nsamples = 364\\nvalue = [71, 293]'),\n",
       " Text(0.875, 0.16666666666666666, 'gini = 0.0\\nsamples = 2\\nvalue = [2, 0]')]"
      ]
     },
     "execution_count": 17,
     "metadata": {},
     "output_type": "execute_result"
    },
    {
     "data": {
      "image/png": "[encoded data removed]",
      "text/plain": [
       "<Figure size 640x480 with 1 Axes>"
      ]
     },
     "metadata": {},
     "output_type": "display_data"
    }
   ],
   "source": [
    "from sklearn import tree\n",
    "tree.plot_tree(treeModel)"
   ]
  },
  {
   "cell_type": "code",
   "execution_count": 18,
   "id": "7b1d3b21",
   "metadata": {},
   "outputs": [
    {
     "name": "stdout",
     "output_type": "stream",
     "text": [
      "[[ 25  36]\n",
      " [  3 121]]\n",
      "              precision    recall  f1-score   support\n",
      "\n",
      "           0       0.89      0.41      0.56        61\n",
      "           1       0.77      0.98      0.86       124\n",
      "\n",
      "    accuracy                           0.79       185\n",
      "   macro avg       0.83      0.69      0.71       185\n",
      "weighted avg       0.81      0.79      0.76       185\n",
      "\n",
      "0.7891891891891892\n"
     ]
    }
   ],
   "source": [
    "from sklearn.metrics import classification_report,accuracy_score,confusion_matrix\n",
    "\n",
    "cm = confusion_matrix(y_test,y_pred)\n",
    "print(cm)\n",
    "print(classification_report(y_test,y_pred))\n",
    "print(accuracy_score(y_test,y_pred))\n"
   ]
  },
  {
   "cell_type": "code",
   "execution_count": null,
   "id": "e2f90912",
   "metadata": {},
   "outputs": [],
   "source": []
  },
  {
   "cell_type": "code",
   "execution_count": null,
   "id": "449d179e",
   "metadata": {},
   "outputs": [],
   "source": []
  }
 ],
 "metadata": {
  "kernelspec": {
   "display_name": "mlenv",
   "language": "python",
   "name": "mlenv"
  },
  "language_info": {
   "codemirror_mode": {
    "name": "ipython",
    "version": 3
   },
   "file_extension": ".py",
   "mimetype": "text/x-python",
   "name": "python",
   "nbconvert_exporter": "python",
   "pygments_lexer": "ipython3",
   "version": "3.9.15"
  }
 },
 "nbformat": 4,
 "nbformat_minor": 5
}
