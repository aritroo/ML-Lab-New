{
 "cells": [
  {
   "cell_type": "code",
   "execution_count": null,
   "id": "0783d80f",
   "metadata": {},
   "outputs": [],
   "source": [
    "import pandas as pd\n",
    "import matplotlib.pyplot as plt"
   ]
  },
  {
   "cell_type": "code",
   "execution_count": null,
   "id": "59273327",
   "metadata": {},
   "outputs": [],
   "source": [
    "url = \"https://archive.ics.uci.edu/ml/machine-learning-databases/iris/iris.data\"\n",
    "\n",
    "cls = ['sepal.length', 'sepal.width', 'petal.length', 'petal.width', 'Class']\n",
    "\n",
    "df = pd.read_csv(url,names=cls)\n"
   ]
  },
  {
   "cell_type": "code",
   "execution_count": null,
   "id": "6e35a638",
   "metadata": {},
   "outputs": [],
   "source": [
    "df.head()"
   ]
  },
  {
   "cell_type": "code",
   "execution_count": null,
   "id": "006f3f26",
   "metadata": {},
   "outputs": [],
   "source": [
    "from sklearn.preprocessing import StandardScaler\n",
    "\n",
    "features = ['sepal.length','sepal.width','petal.length','petal.width']\n",
    "\n",
    "x = df.loc[:,features].values\n",
    "y = df.loc[:,['Class']].values"
   ]
  },
  {
   "cell_type": "code",
   "execution_count": null,
   "id": "cb1a00ec",
   "metadata": {},
   "outputs": [],
   "source": [
    "x"
   ]
  },
  {
   "cell_type": "code",
   "execution_count": null,
   "id": "ff1c0a09",
   "metadata": {},
   "outputs": [],
   "source": [
    "y"
   ]
  },
  {
   "cell_type": "code",
   "execution_count": null,
   "id": "de236312",
   "metadata": {},
   "outputs": [],
   "source": [
    "x=StandardScaler().fit_transform(x)\n"
   ]
  },
  {
   "cell_type": "code",
   "execution_count": null,
   "id": "30de6ed7",
   "metadata": {},
   "outputs": [],
   "source": [
    "x"
   ]
  },
  {
   "cell_type": "code",
   "execution_count": null,
   "id": "d1664fb7",
   "metadata": {},
   "outputs": [],
   "source": [
    "from sklearn.decomposition import PCA\n",
    "\n",
    "pca = PCA(n_components=2)\n",
    "\n",
    "pcomp = pca.fit_transform(x)\n",
    "\n",
    "pdf = pd.DataFrame(data=pcomp,columns=['Principal Component 1','Principal Component 2'])"
   ]
  },
  {
   "cell_type": "code",
   "execution_count": null,
   "id": "cc38489c",
   "metadata": {},
   "outputs": [],
   "source": [
    "finaldf=pd.concat([pdf,df['Class']],axis=1)"
   ]
  },
  {
   "cell_type": "code",
   "execution_count": null,
   "id": "12464475",
   "metadata": {},
   "outputs": [],
   "source": [
    "finaldf.head()"
   ]
  },
  {
   "cell_type": "code",
   "execution_count": null,
   "id": "766e452b",
   "metadata": {},
   "outputs": [],
   "source": [
    "fig = plt.figure(figsize=(8,8))\n",
    "ax = fig.add_subplot(1,1,1)\n",
    "ax.set_xlabel('principal_component 1',fontsize=15)\n",
    "ax.set_ylabel('principal_component 2',fontsize=15)\n",
    "ax.set_title('2 PCA',fontsize=20)\n",
    "variety=['Iris-setosa','Iris-versicolor','Iris-virginica']\n",
    "colors=['r','g','b']\n",
    "\n",
    "for variety,color in zip(variety,colors):\n",
    "    idtok=finaldf['Class']==variety\n",
    "    ax.scatter(finaldf.loc[idtok,'Principal Component 1'],finaldf.loc[idtok,'Principal Component 2'],c=color,s=50)\n",
    "\n",
    "ax.legend(variety)\n",
    "ax.grid()"
   ]
  },
  {
   "cell_type": "code",
   "execution_count": null,
   "id": "39df6e95",
   "metadata": {},
   "outputs": [],
   "source": []
  },
  {
   "cell_type": "code",
   "execution_count": null,
   "id": "7ea5485c",
   "metadata": {},
   "outputs": [],
   "source": []
  },
  {
   "cell_type": "code",
   "execution_count": null,
   "id": "a615e66a",
   "metadata": {},
   "outputs": [],
   "source": []
  },
  {
   "cell_type": "code",
   "execution_count": null,
   "id": "18ca3f72",
   "metadata": {},
   "outputs": [],
   "source": []
  }
 ],
 "metadata": {
  "kernelspec": {
   "display_name": "mlenv",
   "language": "python",
   "name": "mlenv"
  },
  "language_info": {
   "codemirror_mode": {
    "name": "ipython",
    "version": 3
   },
   "file_extension": ".py",
   "mimetype": "text/x-python",
   "name": "python",
   "nbconvert_exporter": "python",
   "pygments_lexer": "ipython3",
   "version": "3.9.15"
  }
 },
 "nbformat": 4,
 "nbformat_minor": 5
}
